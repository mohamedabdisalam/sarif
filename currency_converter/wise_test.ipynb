{
 "cells": [
  {
   "cell_type": "code",
   "execution_count": null,
   "id": "initial_id",
   "metadata": {
    "collapsed": true
   },
   "outputs": [],
   "source": [
    ""
   ]
  },
  {
   "metadata": {
    "ExecuteTime": {
     "end_time": "2024-09-11T18:53:05.101200Z",
     "start_time": "2024-09-11T18:53:04.806223Z"
    }
   },
   "cell_type": "code",
   "source": [
    "import requests\n",
    "import json\n",
    "\n",
    "profile_id = 19555947\n",
    "\n",
    "url_quotes = f\"https://api.sandbox.transferwise.tech/v3/quotes\"\n",
    "token = \"3a2d1adf-a85e-4214-aae5-db39b390f3c0\"\n",
    "\n",
    "headers = {\n",
    "    'Authorization': f'Bearer {token}',\n",
    "    \"Content-Type\": \"application/json\"\n",
    "}\n",
    "\n",
    "# sourceCurrency = str(input(\"Enter in the currency you'd like to convert from: \")).upper()\n",
    "# targetCurrency = str(input(\"Enter in the currency you'd like to convert to: \")).upper()\n",
    "# sourceAmount = float(input(\"Enter the amount you'd like to convert: \"))\n",
    "\n",
    "payload = {\n",
    "    \"sourceCurrency\": \"GBP\",\n",
    "    \"targetCurrency\": \"USD\",\n",
    "    \"sourceAmount\": None,\n",
    "    \"targetAmount\": 100,\n",
    "    \"payOut\": None,\n",
    "    \"preferredPayIn\": None,\n",
    "    \"targetAccount\": None,\n",
    "    \"paymentMetadata\": {\n",
    "        \"transferNature\": \"MOVING_MONEY_BETWEEN_OWN_ACCOUNTS\"\n",
    "    }\n",
    "}\n",
    "\n",
    "\n",
    "response = requests.post(\n",
    "    url_quotes,\n",
    "    headers=headers,\n",
    "    data=json.dumps(payload)\n",
    ")"
   ],
   "id": "42ae0139994e7d41",
   "outputs": [],
   "execution_count": 29
  },
  {
   "metadata": {
    "ExecuteTime": {
     "end_time": "2024-09-11T18:26:33.125411Z",
     "start_time": "2024-09-11T18:26:33.122825Z"
    }
   },
   "cell_type": "code",
   "source": "print(response)",
   "id": "6cdd85b0d37a8223",
   "outputs": [
    {
     "name": "stdout",
     "output_type": "stream",
     "text": [
      "<Response [200]>\n"
     ]
    }
   ],
   "execution_count": 3
  },
  {
   "metadata": {
    "ExecuteTime": {
     "end_time": "2024-09-11T18:26:53.843769Z",
     "start_time": "2024-09-11T18:26:53.839761Z"
    }
   },
   "cell_type": "code",
   "source": "dir(response)",
   "id": "94d402af4bf56b66",
   "outputs": [
    {
     "data": {
      "text/plain": [
       "['__attrs__',\n",
       " '__bool__',\n",
       " '__class__',\n",
       " '__delattr__',\n",
       " '__dict__',\n",
       " '__dir__',\n",
       " '__doc__',\n",
       " '__enter__',\n",
       " '__eq__',\n",
       " '__exit__',\n",
       " '__format__',\n",
       " '__ge__',\n",
       " '__getattribute__',\n",
       " '__getstate__',\n",
       " '__gt__',\n",
       " '__hash__',\n",
       " '__init__',\n",
       " '__init_subclass__',\n",
       " '__iter__',\n",
       " '__le__',\n",
       " '__lt__',\n",
       " '__module__',\n",
       " '__ne__',\n",
       " '__new__',\n",
       " '__nonzero__',\n",
       " '__reduce__',\n",
       " '__reduce_ex__',\n",
       " '__repr__',\n",
       " '__setattr__',\n",
       " '__setstate__',\n",
       " '__sizeof__',\n",
       " '__str__',\n",
       " '__subclasshook__',\n",
       " '__weakref__',\n",
       " '_content',\n",
       " '_content_consumed',\n",
       " '_next',\n",
       " 'apparent_encoding',\n",
       " 'close',\n",
       " 'connection',\n",
       " 'content',\n",
       " 'cookies',\n",
       " 'elapsed',\n",
       " 'encoding',\n",
       " 'headers',\n",
       " 'history',\n",
       " 'is_permanent_redirect',\n",
       " 'is_redirect',\n",
       " 'iter_content',\n",
       " 'iter_lines',\n",
       " 'json',\n",
       " 'links',\n",
       " 'next',\n",
       " 'ok',\n",
       " 'raise_for_status',\n",
       " 'raw',\n",
       " 'reason',\n",
       " 'request',\n",
       " 'status_code',\n",
       " 'text',\n",
       " 'url']"
      ]
     },
     "execution_count": 4,
     "metadata": {},
     "output_type": "execute_result"
    }
   ],
   "execution_count": 4
  },
  {
   "metadata": {
    "ExecuteTime": {
     "end_time": "2024-09-11T18:37:47.587845Z",
     "start_time": "2024-09-11T18:37:47.583072Z"
    }
   },
   "cell_type": "code",
   "source": "print(response.json())",
   "id": "2a1224b4a08d4bd8",
   "outputs": [
    {
     "name": "stdout",
     "output_type": "stream",
     "text": [
      "{'sourceAmount': 100.0, 'guaranteedTargetAmountAllowed': False, 'targetAmountAllowed': True, 'paymentOptions': [{'formattedEstimatedDelivery': 'in seconds', 'estimatedDeliveryDelays': [], 'allowedProfileTypes': ['PERSONAL', 'BUSINESS'], 'feePercentage': 0.0164, 'estimatedDelivery': '2024-09-11T18:26:10Z', 'disabled': False, 'sourceAmount': 100.0, 'targetAmount': 75.39, 'sourceCurrency': 'USD', 'targetCurrency': 'GBP', 'payOut': 'BANK_TRANSFER', 'price': {'priceSetId': 181, 'total': {'type': 'TOTAL', 'label': 'Total fees', 'value': {'amount': 1.64, 'currency': 'USD', 'label': '1.64 USD'}}, 'items': [{'type': 'PAYIN', 'label': 'fee', 'value': {'amount': 0.31, 'currency': 'USD', 'label': '0.31 USD'}}, {'type': 'TRANSFERWISE', 'label': 'Our fee', 'value': {'amount': 1.33, 'currency': 'USD', 'label': '1.33 USD'}}], 'priceDecisionReferenceId': '478957dc-eeea-47ec-d891-d39d75cca66d'}, 'fee': {'transferwise': 1.33, 'payIn': 0.31, 'discount': 0, 'total': 1.64, 'priceSetId': 181, 'partner': 0.0}, 'payIn': 'DIRECT_DEBIT'}, {'formattedEstimatedDelivery': 'in 54 minutes', 'estimatedDeliveryDelays': [], 'allowedProfileTypes': ['PERSONAL', 'BUSINESS'], 'feePercentage': 0.0665, 'estimatedDelivery': '2024-09-11T19:20:00Z', 'disabled': False, 'sourceAmount': 100.0, 'targetAmount': 71.55, 'sourceCurrency': 'USD', 'targetCurrency': 'GBP', 'payOut': 'BANK_TRANSFER', 'price': {'priceSetId': 181, 'total': {'type': 'TOTAL', 'label': 'Total fees', 'value': {'amount': 6.65, 'currency': 'USD', 'label': '6.65 USD'}}, 'items': [{'type': 'PAYIN', 'label': 'fee', 'value': {'amount': 5.34, 'currency': 'USD', 'label': '5.34 USD'}}, {'type': 'TRANSFERWISE', 'label': 'Our fee', 'value': {'amount': 1.31, 'currency': 'USD', 'label': '1.31 USD'}}], 'priceDecisionReferenceId': '478957dc-eeea-47ec-d891-d39d75cca66d'}, 'fee': {'transferwise': 1.31, 'payIn': 5.34, 'discount': 0, 'total': 6.65, 'priceSetId': 181, 'partner': 0.0}, 'payIn': 'BANK_TRANSFER'}, {'formattedEstimatedDelivery': 'in seconds', 'estimatedDeliveryDelays': [], 'allowedProfileTypes': ['PERSONAL', 'BUSINESS'], 'feePercentage': 0.0249, 'estimatedDelivery': '2024-09-11T18:26:10Z', 'disabled': False, 'sourceAmount': 100.0, 'targetAmount': 74.74, 'sourceCurrency': 'USD', 'targetCurrency': 'GBP', 'payOut': 'BANK_TRANSFER', 'price': {'priceSetId': 181, 'total': {'type': 'TOTAL', 'label': 'Total fees', 'value': {'amount': 2.49, 'currency': 'USD', 'label': '2.49 USD'}}, 'items': [{'type': 'PAYIN', 'label': 'fee', 'value': {'amount': 1.16, 'currency': 'USD', 'label': '1.16 USD'}}, {'type': 'TRANSFERWISE', 'label': 'Our fee', 'value': {'amount': 1.33, 'currency': 'USD', 'label': '1.33 USD'}}], 'priceDecisionReferenceId': '478957dc-eeea-47ec-d891-d39d75cca66d'}, 'fee': {'transferwise': 1.33, 'payIn': 1.16, 'discount': 0, 'total': 2.49, 'priceSetId': 181, 'partner': 0.0}, 'payIn': 'DEBIT'}, {'formattedEstimatedDelivery': 'in seconds', 'estimatedDeliveryDelays': [], 'allowedProfileTypes': ['PERSONAL', 'BUSINESS'], 'feePercentage': 0.0506, 'estimatedDelivery': '2024-09-11T18:26:10Z', 'disabled': False, 'sourceAmount': 100.0, 'targetAmount': 72.77, 'sourceCurrency': 'USD', 'targetCurrency': 'GBP', 'payOut': 'BANK_TRANSFER', 'price': {'priceSetId': 181, 'total': {'type': 'TOTAL', 'label': 'Total fees', 'value': {'amount': 5.06, 'currency': 'USD', 'label': '5.06 USD'}}, 'items': [{'type': 'PAYIN', 'label': 'fee', 'value': {'amount': 3.74, 'currency': 'USD', 'label': '3.74 USD'}}, {'type': 'TRANSFERWISE', 'label': 'Our fee', 'value': {'amount': 1.32, 'currency': 'USD', 'label': '1.32 USD'}}], 'priceDecisionReferenceId': '478957dc-eeea-47ec-d891-d39d75cca66d'}, 'fee': {'transferwise': 1.32, 'payIn': 3.74, 'discount': 0, 'total': 5.06, 'priceSetId': 181, 'partner': 0.0}, 'payIn': 'CREDIT'}, {'formattedEstimatedDelivery': 'in seconds', 'estimatedDeliveryDelays': [], 'allowedProfileTypes': ['PERSONAL', 'BUSINESS'], 'feePercentage': 0.0553, 'estimatedDelivery': '2024-09-11T18:26:10Z', 'disabled': False, 'sourceAmount': 100.0, 'targetAmount': 72.41, 'sourceCurrency': 'USD', 'targetCurrency': 'GBP', 'payOut': 'BANK_TRANSFER', 'price': {'priceSetId': 181, 'total': {'type': 'TOTAL', 'label': 'Total fees', 'value': {'amount': 5.53, 'currency': 'USD', 'label': '5.53 USD'}}, 'items': [{'type': 'PAYIN', 'label': 'fee', 'value': {'amount': 4.21, 'currency': 'USD', 'label': '4.21 USD'}}, {'type': 'TRANSFERWISE', 'label': 'Our fee', 'value': {'amount': 1.32, 'currency': 'USD', 'label': '1.32 USD'}}], 'priceDecisionReferenceId': '478957dc-eeea-47ec-d891-d39d75cca66d'}, 'fee': {'transferwise': 1.32, 'payIn': 4.21, 'discount': 0, 'total': 5.53, 'priceSetId': 181, 'partner': 0.0}, 'payIn': 'INTERNATIONAL_DEBIT'}, {'formattedEstimatedDelivery': 'in seconds', 'estimatedDeliveryDelays': [], 'allowedProfileTypes': ['PERSONAL', 'BUSINESS'], 'feePercentage': 0.0547, 'estimatedDelivery': '2024-09-11T18:26:10Z', 'disabled': False, 'sourceAmount': 100.0, 'targetAmount': 72.46, 'sourceCurrency': 'USD', 'targetCurrency': 'GBP', 'payOut': 'BANK_TRANSFER', 'price': {'priceSetId': 181, 'total': {'type': 'TOTAL', 'label': 'Total fees', 'value': {'amount': 5.47, 'currency': 'USD', 'label': '5.47 USD'}}, 'items': [{'type': 'PAYIN', 'label': 'fee', 'value': {'amount': 4.15, 'currency': 'USD', 'label': '4.15 USD'}}, {'type': 'TRANSFERWISE', 'label': 'Our fee', 'value': {'amount': 1.32, 'currency': 'USD', 'label': '1.32 USD'}}], 'priceDecisionReferenceId': '478957dc-eeea-47ec-d891-d39d75cca66d'}, 'fee': {'transferwise': 1.32, 'payIn': 4.15, 'discount': 0, 'total': 5.47, 'priceSetId': 181, 'partner': 0.0}, 'payIn': 'MC_BUSINESS_CREDIT'}, {'formattedEstimatedDelivery': 'in seconds', 'estimatedDeliveryDelays': [], 'allowedProfileTypes': ['PERSONAL', 'BUSINESS'], 'feePercentage': 0.0249, 'estimatedDelivery': '2024-09-11T18:26:10Z', 'disabled': False, 'sourceAmount': 100.0, 'targetAmount': 74.74, 'sourceCurrency': 'USD', 'targetCurrency': 'GBP', 'payOut': 'BANK_TRANSFER', 'price': {'priceSetId': 181, 'total': {'type': 'TOTAL', 'label': 'Total fees', 'value': {'amount': 2.49, 'currency': 'USD', 'label': '2.49 USD'}}, 'items': [{'type': 'PAYIN', 'label': 'fee', 'value': {'amount': 1.16, 'currency': 'USD', 'label': '1.16 USD'}}, {'type': 'TRANSFERWISE', 'label': 'Our fee', 'value': {'amount': 1.33, 'currency': 'USD', 'label': '1.33 USD'}}], 'priceDecisionReferenceId': '478957dc-eeea-47ec-d891-d39d75cca66d'}, 'fee': {'transferwise': 1.33, 'payIn': 1.16, 'discount': 0, 'total': 2.49, 'priceSetId': 181, 'partner': 0.0}, 'payIn': 'MC_DEBIT_OR_PREPAID'}, {'formattedEstimatedDelivery': 'in seconds', 'estimatedDeliveryDelays': [], 'allowedProfileTypes': ['PERSONAL', 'BUSINESS'], 'feePercentage': 0.0249, 'estimatedDelivery': '2024-09-11T18:26:10Z', 'disabled': False, 'sourceAmount': 100.0, 'targetAmount': 74.74, 'sourceCurrency': 'USD', 'targetCurrency': 'GBP', 'payOut': 'BANK_TRANSFER', 'price': {'priceSetId': 181, 'total': {'type': 'TOTAL', 'label': 'Total fees', 'value': {'amount': 2.49, 'currency': 'USD', 'label': '2.49 USD'}}, 'items': [{'type': 'PAYIN', 'label': 'fee', 'value': {'amount': 1.16, 'currency': 'USD', 'label': '1.16 USD'}}, {'type': 'TRANSFERWISE', 'label': 'Our fee', 'value': {'amount': 1.33, 'currency': 'USD', 'label': '1.33 USD'}}], 'priceDecisionReferenceId': '478957dc-eeea-47ec-d891-d39d75cca66d'}, 'fee': {'transferwise': 1.33, 'payIn': 1.16, 'discount': 0, 'total': 2.49, 'priceSetId': 181, 'partner': 0.0}, 'payIn': 'CARD'}, {'formattedEstimatedDelivery': 'in seconds', 'estimatedDeliveryDelays': [], 'allowedProfileTypes': ['PERSONAL', 'BUSINESS'], 'feePercentage': 0.0249, 'estimatedDelivery': '2024-09-11T18:26:10Z', 'disabled': False, 'sourceAmount': 100.0, 'targetAmount': 74.74, 'sourceCurrency': 'USD', 'targetCurrency': 'GBP', 'payOut': 'BANK_TRANSFER', 'price': {'priceSetId': 181, 'total': {'type': 'TOTAL', 'label': 'Total fees', 'value': {'amount': 2.49, 'currency': 'USD', 'label': '2.49 USD'}}, 'items': [{'type': 'PAYIN', 'label': 'fee', 'value': {'amount': 1.16, 'currency': 'USD', 'label': '1.16 USD'}}, {'type': 'TRANSFERWISE', 'label': 'Our fee', 'value': {'amount': 1.33, 'currency': 'USD', 'label': '1.33 USD'}}], 'priceDecisionReferenceId': '478957dc-eeea-47ec-d891-d39d75cca66d'}, 'fee': {'transferwise': 1.33, 'payIn': 1.16, 'discount': 0, 'total': 2.49, 'priceSetId': 181, 'partner': 0.0}, 'payIn': 'MAESTRO'}, {'formattedEstimatedDelivery': 'in seconds', 'estimatedDeliveryDelays': [], 'allowedProfileTypes': ['PERSONAL', 'BUSINESS'], 'feePercentage': 0.0217, 'estimatedDelivery': '2024-09-11T18:26:10Z', 'disabled': False, 'sourceAmount': 100.0, 'targetAmount': 74.99, 'sourceCurrency': 'USD', 'targetCurrency': 'GBP', 'payOut': 'BANK_TRANSFER', 'price': {'priceSetId': 181, 'total': {'type': 'TOTAL', 'label': 'Total fees', 'value': {'amount': 2.17, 'currency': 'USD', 'label': '2.17 USD'}}, 'items': [{'type': 'PAYIN', 'label': 'fee', 'value': {'amount': 0.84, 'currency': 'USD', 'label': '0.84 USD'}}, {'type': 'TRANSFERWISE', 'label': 'Our fee', 'value': {'amount': 1.33, 'currency': 'USD', 'label': '1.33 USD'}}], 'priceDecisionReferenceId': '478957dc-eeea-47ec-d891-d39d75cca66d'}, 'fee': {'transferwise': 1.33, 'payIn': 0.84, 'discount': 0, 'total': 2.17, 'priceSetId': 181, 'partner': 0.0}, 'payIn': 'INT_DEBIT_WITH_EUROPEAN_CARD'}, {'formattedEstimatedDelivery': 'in seconds', 'estimatedDeliveryDelays': [], 'allowedProfileTypes': ['PERSONAL', 'BUSINESS'], 'feePercentage': 0.0217, 'estimatedDelivery': '2024-09-11T18:26:10Z', 'disabled': False, 'sourceAmount': 100.0, 'targetAmount': 74.99, 'sourceCurrency': 'USD', 'targetCurrency': 'GBP', 'payOut': 'BANK_TRANSFER', 'price': {'priceSetId': 181, 'total': {'type': 'TOTAL', 'label': 'Total fees', 'value': {'amount': 2.17, 'currency': 'USD', 'label': '2.17 USD'}}, 'items': [{'type': 'PAYIN', 'label': 'fee', 'value': {'amount': 0.84, 'currency': 'USD', 'label': '0.84 USD'}}, {'type': 'TRANSFERWISE', 'label': 'Our fee', 'value': {'amount': 1.33, 'currency': 'USD', 'label': '1.33 USD'}}], 'priceDecisionReferenceId': '478957dc-eeea-47ec-d891-d39d75cca66d'}, 'fee': {'transferwise': 1.33, 'payIn': 0.84, 'discount': 0, 'total': 2.17, 'priceSetId': 181, 'partner': 0.0}, 'payIn': 'INT_CREDIT_WITH_EUROPEAN_CARD'}, {'formattedEstimatedDelivery': 'in seconds', 'estimatedDeliveryDelays': [], 'allowedProfileTypes': ['PERSONAL', 'BUSINESS'], 'feePercentage': 0.0247, 'estimatedDelivery': '2024-09-11T18:26:10Z', 'disabled': False, 'sourceAmount': 100.0, 'targetAmount': 74.76, 'sourceCurrency': 'USD', 'targetCurrency': 'GBP', 'payOut': 'BANK_TRANSFER', 'price': {'priceSetId': 181, 'total': {'type': 'TOTAL', 'label': 'Total fees', 'value': {'amount': 2.47, 'currency': 'USD', 'label': '2.47 USD'}}, 'items': [{'type': 'PAYIN', 'label': 'fee', 'value': {'amount': 1.14, 'currency': 'USD', 'label': '1.14 USD'}}, {'type': 'TRANSFERWISE', 'label': 'Our fee', 'value': {'amount': 1.33, 'currency': 'USD', 'label': '1.33 USD'}}], 'priceDecisionReferenceId': '478957dc-eeea-47ec-d891-d39d75cca66d'}, 'fee': {'transferwise': 1.33, 'payIn': 1.14, 'discount': 0, 'total': 2.47, 'priceSetId': 181, 'partner': 0.0}, 'payIn': 'VISA_BUSINESS_DEBIT'}, {'formattedEstimatedDelivery': 'in seconds', 'estimatedDeliveryDelays': [], 'allowedProfileTypes': ['PERSONAL', 'BUSINESS'], 'feePercentage': 0.0249, 'estimatedDelivery': '2024-09-11T18:26:10Z', 'disabled': False, 'sourceAmount': 100.0, 'targetAmount': 74.74, 'sourceCurrency': 'USD', 'targetCurrency': 'GBP', 'payOut': 'BANK_TRANSFER', 'price': {'priceSetId': 181, 'total': {'type': 'TOTAL', 'label': 'Total fees', 'value': {'amount': 2.49, 'currency': 'USD', 'label': '2.49 USD'}}, 'items': [{'type': 'PAYIN', 'label': 'fee', 'value': {'amount': 1.16, 'currency': 'USD', 'label': '1.16 USD'}}, {'type': 'TRANSFERWISE', 'label': 'Our fee', 'value': {'amount': 1.33, 'currency': 'USD', 'label': '1.33 USD'}}], 'priceDecisionReferenceId': '478957dc-eeea-47ec-d891-d39d75cca66d'}, 'fee': {'transferwise': 1.33, 'payIn': 1.16, 'discount': 0, 'total': 2.49, 'priceSetId': 181, 'partner': 0.0}, 'payIn': 'VISA_DEBIT_OR_PREPAID'}, {'formattedEstimatedDelivery': 'in seconds', 'estimatedDeliveryDelays': [], 'allowedProfileTypes': ['PERSONAL', 'BUSINESS'], 'feePercentage': 0.0459, 'estimatedDelivery': '2024-09-11T18:26:10Z', 'disabled': False, 'sourceAmount': 100.0, 'targetAmount': 73.13, 'sourceCurrency': 'USD', 'targetCurrency': 'GBP', 'payOut': 'BANK_TRANSFER', 'price': {'priceSetId': 181, 'total': {'type': 'TOTAL', 'label': 'Total fees', 'value': {'amount': 4.59, 'currency': 'USD', 'label': '4.59 USD'}}, 'items': [{'type': 'PAYIN', 'label': 'fee', 'value': {'amount': 3.27, 'currency': 'USD', 'label': '3.27 USD'}}, {'type': 'TRANSFERWISE', 'label': 'Our fee', 'value': {'amount': 1.32, 'currency': 'USD', 'label': '1.32 USD'}}], 'priceDecisionReferenceId': '478957dc-eeea-47ec-d891-d39d75cca66d'}, 'fee': {'transferwise': 1.32, 'payIn': 3.27, 'discount': 0, 'total': 4.59, 'priceSetId': 181, 'partner': 0.0}, 'payIn': 'MC_CREDIT'}, {'formattedEstimatedDelivery': 'in seconds', 'estimatedDeliveryDelays': [], 'allowedProfileTypes': ['PERSONAL', 'BUSINESS'], 'feePercentage': 0.0297, 'estimatedDelivery': '2024-09-11T18:26:10Z', 'disabled': False, 'sourceAmount': 100.0, 'targetAmount': 74.37, 'sourceCurrency': 'USD', 'targetCurrency': 'GBP', 'payOut': 'BANK_TRANSFER', 'price': {'priceSetId': 181, 'total': {'type': 'TOTAL', 'label': 'Total fees', 'value': {'amount': 2.97, 'currency': 'USD', 'label': '2.97 USD'}}, 'items': [{'type': 'PAYIN', 'label': 'fee', 'value': {'amount': 1.64, 'currency': 'USD', 'label': '1.64 USD'}}, {'type': 'TRANSFERWISE', 'label': 'Our fee', 'value': {'amount': 1.33, 'currency': 'USD', 'label': '1.33 USD'}}], 'priceDecisionReferenceId': '478957dc-eeea-47ec-d891-d39d75cca66d'}, 'fee': {'transferwise': 1.33, 'payIn': 1.64, 'discount': 0, 'total': 2.97, 'priceSetId': 181, 'partner': 0.0}, 'payIn': 'MC_BUSINESS_DEBIT'}, {'formattedEstimatedDelivery': 'in seconds', 'estimatedDeliveryDelays': [], 'allowedProfileTypes': ['PERSONAL', 'BUSINESS'], 'feePercentage': 0.0547, 'estimatedDelivery': '2024-09-11T18:26:10Z', 'disabled': False, 'sourceAmount': 100.0, 'targetAmount': 72.46, 'sourceCurrency': 'USD', 'targetCurrency': 'GBP', 'payOut': 'BANK_TRANSFER', 'price': {'priceSetId': 181, 'total': {'type': 'TOTAL', 'label': 'Total fees', 'value': {'amount': 5.47, 'currency': 'USD', 'label': '5.47 USD'}}, 'items': [{'type': 'PAYIN', 'label': 'fee', 'value': {'amount': 4.15, 'currency': 'USD', 'label': '4.15 USD'}}, {'type': 'TRANSFERWISE', 'label': 'Our fee', 'value': {'amount': 1.32, 'currency': 'USD', 'label': '1.32 USD'}}], 'priceDecisionReferenceId': '478957dc-eeea-47ec-d891-d39d75cca66d'}, 'fee': {'transferwise': 1.32, 'payIn': 4.15, 'discount': 0, 'total': 5.47, 'priceSetId': 181, 'partner': 0.0}, 'payIn': 'VISA_BUSINESS_CREDIT'}, {'formattedEstimatedDelivery': 'in seconds', 'estimatedDeliveryDelays': [], 'allowedProfileTypes': ['PERSONAL', 'BUSINESS'], 'feePercentage': 0.0553, 'estimatedDelivery': '2024-09-11T18:26:10Z', 'disabled': False, 'sourceAmount': 100.0, 'targetAmount': 72.41, 'sourceCurrency': 'USD', 'targetCurrency': 'GBP', 'payOut': 'BANK_TRANSFER', 'price': {'priceSetId': 181, 'total': {'type': 'TOTAL', 'label': 'Total fees', 'value': {'amount': 5.53, 'currency': 'USD', 'label': '5.53 USD'}}, 'items': [{'type': 'PAYIN', 'label': 'fee', 'value': {'amount': 4.21, 'currency': 'USD', 'label': '4.21 USD'}}, {'type': 'TRANSFERWISE', 'label': 'Our fee', 'value': {'amount': 1.32, 'currency': 'USD', 'label': '1.32 USD'}}], 'priceDecisionReferenceId': '478957dc-eeea-47ec-d891-d39d75cca66d'}, 'fee': {'transferwise': 1.32, 'payIn': 4.21, 'discount': 0, 'total': 5.53, 'priceSetId': 181, 'partner': 0.0}, 'payIn': 'INTERNATIONAL_CREDIT'}, {'formattedEstimatedDelivery': 'in seconds', 'estimatedDeliveryDelays': [], 'allowedProfileTypes': ['PERSONAL', 'BUSINESS'], 'feePercentage': 0.0506, 'estimatedDelivery': '2024-09-11T18:26:10Z', 'disabled': False, 'sourceAmount': 100.0, 'targetAmount': 72.77, 'sourceCurrency': 'USD', 'targetCurrency': 'GBP', 'payOut': 'BANK_TRANSFER', 'price': {'priceSetId': 181, 'total': {'type': 'TOTAL', 'label': 'Total fees', 'value': {'amount': 5.06, 'currency': 'USD', 'label': '5.06 USD'}}, 'items': [{'type': 'PAYIN', 'label': 'fee', 'value': {'amount': 3.74, 'currency': 'USD', 'label': '3.74 USD'}}, {'type': 'TRANSFERWISE', 'label': 'Our fee', 'value': {'amount': 1.32, 'currency': 'USD', 'label': '1.32 USD'}}], 'priceDecisionReferenceId': '478957dc-eeea-47ec-d891-d39d75cca66d'}, 'fee': {'transferwise': 1.32, 'payIn': 3.74, 'discount': 0, 'total': 5.06, 'priceSetId': 181, 'partner': 0.0}, 'payIn': 'VISA_CREDIT'}, {'formattedEstimatedDelivery': 'in seconds', 'estimatedDeliveryDelays': [], 'allowedProfileTypes': ['PERSONAL', 'BUSINESS'], 'feePercentage': 0.0085, 'estimatedDelivery': '2024-09-11T18:26:10Z', 'disabled': True, 'sourceAmount': 100.0, 'targetAmount': 76.0, 'sourceCurrency': 'USD', 'targetCurrency': 'GBP', 'payOut': 'BANK_TRANSFER', 'price': {'priceSetId': 130, 'total': {'type': 'TOTAL', 'label': 'Total fees', 'value': {'amount': 0.85, 'currency': 'USD', 'label': '0.85 USD'}}, 'items': [{'type': 'PAYIN', 'label': 'fee', 'value': {'amount': 0.0, 'currency': 'USD', 'label': '0 USD'}}, {'type': 'TRANSFERWISE', 'label': 'Our fee', 'value': {'amount': 0.85, 'currency': 'USD', 'label': '0.85 USD'}}], 'priceDecisionReferenceId': '478957dc-eeea-47ec-d891-d39d75cca66d'}, 'fee': {'transferwise': 0.85, 'payIn': 0.0, 'discount': 0, 'total': 0.85, 'priceSetId': 130, 'partner': 0.0}, 'payIn': 'BALANCE', 'disabledReason': {'code': 'error.payInmethod.disabled', 'message': 'Open a multi currency account and add funds to instantly pay for your transfers.', 'arguments': []}}], 'notices': [], 'transferFlowConfig': {'highAmount': {'showFeePercentage': False, 'trackAsHighAmountSender': False, 'showEducationStep': False, 'offerPrefundingOption': False, 'overLimitThroughCs': False, 'overLimitThroughWiseAccount': False}}, 'rateTimestamp': '2024-09-11T18:24:24Z', 'clientId': 'transferwise-personal-tokens', 'paymentMetadata': {'transferNature': 'MOVING_MONEY_BETWEEN_OWN_ACCOUNTS'}, 'expirationTime': '2024-09-11T18:56:10Z', 'id': 'b498e178-df0e-4fd7-83dd-4a500f1a3456', 'type': 'REGULAR', 'rateExpirationTime': '2024-09-12T02:26:10Z', 'status': 'PENDING', 'rateType': 'FIXED', 'rate': 0.766497, 'sourceCurrency': 'USD', 'targetCurrency': 'GBP', 'createdTime': '2024-09-11T18:26:10Z', 'user': 8094518, 'payOut': 'BANK_TRANSFER', 'guaranteedTargetAmount': False, 'providedAmountType': 'SOURCE', 'funding': 'POST'}\n"
     ]
    }
   ],
   "execution_count": 16
  },
  {
   "metadata": {
    "ExecuteTime": {
     "end_time": "2024-09-11T18:28:20.250755Z",
     "start_time": "2024-09-11T18:28:20.247386Z"
    }
   },
   "cell_type": "code",
   "source": "dir(response.json())",
   "id": "89b076442be16c1b",
   "outputs": [
    {
     "data": {
      "text/plain": [
       "['__class__',\n",
       " '__class_getitem__',\n",
       " '__contains__',\n",
       " '__delattr__',\n",
       " '__delitem__',\n",
       " '__dir__',\n",
       " '__doc__',\n",
       " '__eq__',\n",
       " '__format__',\n",
       " '__ge__',\n",
       " '__getattribute__',\n",
       " '__getitem__',\n",
       " '__getstate__',\n",
       " '__gt__',\n",
       " '__hash__',\n",
       " '__init__',\n",
       " '__init_subclass__',\n",
       " '__ior__',\n",
       " '__iter__',\n",
       " '__le__',\n",
       " '__len__',\n",
       " '__lt__',\n",
       " '__ne__',\n",
       " '__new__',\n",
       " '__or__',\n",
       " '__reduce__',\n",
       " '__reduce_ex__',\n",
       " '__repr__',\n",
       " '__reversed__',\n",
       " '__ror__',\n",
       " '__setattr__',\n",
       " '__setitem__',\n",
       " '__sizeof__',\n",
       " '__str__',\n",
       " '__subclasshook__',\n",
       " 'clear',\n",
       " 'copy',\n",
       " 'fromkeys',\n",
       " 'get',\n",
       " 'items',\n",
       " 'keys',\n",
       " 'pop',\n",
       " 'popitem',\n",
       " 'setdefault',\n",
       " 'update',\n",
       " 'values']"
      ]
     },
     "execution_count": 6,
     "metadata": {},
     "output_type": "execute_result"
    }
   ],
   "execution_count": 6
  },
  {
   "metadata": {
    "ExecuteTime": {
     "end_time": "2024-09-11T18:33:33.516234Z",
     "start_time": "2024-09-11T18:33:33.512258Z"
    }
   },
   "cell_type": "code",
   "source": "response.json().keys()",
   "id": "c2002aff5808c376",
   "outputs": [
    {
     "data": {
      "text/plain": [
       "dict_keys(['sourceAmount', 'guaranteedTargetAmountAllowed', 'targetAmountAllowed', 'paymentOptions', 'notices', 'transferFlowConfig', 'rateTimestamp', 'clientId', 'paymentMetadata', 'expirationTime', 'id', 'type', 'rateExpirationTime', 'status', 'rateType', 'rate', 'sourceCurrency', 'targetCurrency', 'createdTime', 'user', 'payOut', 'guaranteedTargetAmount', 'providedAmountType', 'funding'])"
      ]
     },
     "execution_count": 15,
     "metadata": {},
     "output_type": "execute_result"
    }
   ],
   "execution_count": 15
  },
  {
   "metadata": {
    "ExecuteTime": {
     "end_time": "2024-09-11T18:29:33.961901Z",
     "start_time": "2024-09-11T18:29:33.959834Z"
    }
   },
   "cell_type": "code",
   "source": "print(type(response.json()))",
   "id": "e3439bc63d8623a2",
   "outputs": [
    {
     "name": "stdout",
     "output_type": "stream",
     "text": [
      "<class 'dict'>\n"
     ]
    }
   ],
   "execution_count": 9
  },
  {
   "metadata": {
    "ExecuteTime": {
     "end_time": "2024-09-11T18:40:55.241314Z",
     "start_time": "2024-09-11T18:40:55.238857Z"
    }
   },
   "cell_type": "code",
   "source": "print(response.json()['paymentOptions'][0]['targetAmount'])",
   "id": "6f0f1da200056fbe",
   "outputs": [
    {
     "name": "stdout",
     "output_type": "stream",
     "text": [
      "75.39\n"
     ]
    }
   ],
   "execution_count": 19
  },
  {
   "metadata": {
    "ExecuteTime": {
     "end_time": "2024-09-11T18:53:24.255001Z",
     "start_time": "2024-09-11T18:53:24.252451Z"
    }
   },
   "cell_type": "code",
   "source": "sourceAmount = response.json()['paymentOptions'][0]['sourceAmount']",
   "id": "b55838dd8ac2316b",
   "outputs": [],
   "execution_count": 30
  },
  {
   "metadata": {
    "ExecuteTime": {
     "end_time": "2024-09-11T19:06:49.324912Z",
     "start_time": "2024-09-11T19:06:49.322696Z"
    }
   },
   "cell_type": "code",
   "source": "print(sourceAmount)",
   "id": "12b270051fc97ca1",
   "outputs": [
    {
     "name": "stdout",
     "output_type": "stream",
     "text": [
      "77.9\n"
     ]
    }
   ],
   "execution_count": 44
  },
  {
   "metadata": {
    "ExecuteTime": {
     "end_time": "2024-09-11T19:06:52.112249Z",
     "start_time": "2024-09-11T19:06:52.109174Z"
    }
   },
   "cell_type": "code",
   "source": "print(response.json()['paymentOptions'][0]['fee']['total'])",
   "id": "3361abb7392fbbfe",
   "outputs": [
    {
     "name": "stdout",
     "output_type": "stream",
     "text": [
      "1.26\n"
     ]
    }
   ],
   "execution_count": 45
  },
  {
   "metadata": {
    "ExecuteTime": {
     "end_time": "2024-09-11T19:16:42.881108Z",
     "start_time": "2024-09-11T19:16:42.874379Z"
    }
   },
   "cell_type": "code",
   "source": "response.json()['rate']",
   "id": "47ff315ccfd2057f",
   "outputs": [
    {
     "data": {
      "text/plain": [
       "1.30485"
      ]
     },
     "execution_count": 46,
     "metadata": {},
     "output_type": "execute_result"
    }
   ],
   "execution_count": 46
  },
  {
   "metadata": {
    "ExecuteTime": {
     "end_time": "2024-09-11T19:16:54.259144Z",
     "start_time": "2024-09-11T19:16:54.257004Z"
    }
   },
   "cell_type": "code",
   "source": "rate = response.json()['rate']",
   "id": "6736e406589cb7ef",
   "outputs": [],
   "execution_count": 47
  },
  {
   "metadata": {
    "ExecuteTime": {
     "end_time": "2024-09-11T19:17:34.218543Z",
     "start_time": "2024-09-11T19:17:34.216176Z"
    }
   },
   "cell_type": "code",
   "source": "targetAmount = response.json()['paymentOptions'][0]['targetAmount']",
   "id": "197904eeebba561e",
   "outputs": [],
   "execution_count": 48
  },
  {
   "metadata": {
    "ExecuteTime": {
     "end_time": "2024-09-11T19:18:22.529397Z",
     "start_time": "2024-09-11T19:18:22.526603Z"
    }
   },
   "cell_type": "code",
   "source": "targetAmount / rate",
   "id": "8e578637fd1dd574",
   "outputs": [
    {
     "data": {
      "text/plain": [
       "76.63716135954324"
      ]
     },
     "execution_count": 49,
     "metadata": {},
     "output_type": "execute_result"
    }
   ],
   "execution_count": 49
  },
  {
   "metadata": {
    "ExecuteTime": {
     "end_time": "2024-09-11T19:19:03.926041Z",
     "start_time": "2024-09-11T19:19:03.923776Z"
    }
   },
   "cell_type": "code",
   "source": "amount = targetAmount / rate",
   "id": "d41ce3d4c078e97c",
   "outputs": [],
   "execution_count": 50
  },
  {
   "metadata": {
    "ExecuteTime": {
     "end_time": "2024-09-11T19:19:11.838041Z",
     "start_time": "2024-09-11T19:19:11.835776Z"
    }
   },
   "cell_type": "code",
   "source": "print(amount)",
   "id": "c12c0bea68bfbd11",
   "outputs": [
    {
     "name": "stdout",
     "output_type": "stream",
     "text": [
      "76.63716135954324\n"
     ]
    }
   ],
   "execution_count": 51
  },
  {
   "metadata": {},
   "cell_type": "code",
   "outputs": [],
   "execution_count": null,
   "source": "",
   "id": "51d9c335b5dee333"
  }
 ],
 "metadata": {
  "kernelspec": {
   "display_name": "Python 3",
   "language": "python",
   "name": "python3"
  },
  "language_info": {
   "codemirror_mode": {
    "name": "ipython",
    "version": 2
   },
   "file_extension": ".py",
   "mimetype": "text/x-python",
   "name": "python",
   "nbconvert_exporter": "python",
   "pygments_lexer": "ipython2",
   "version": "2.7.6"
  }
 },
 "nbformat": 4,
 "nbformat_minor": 5
}
